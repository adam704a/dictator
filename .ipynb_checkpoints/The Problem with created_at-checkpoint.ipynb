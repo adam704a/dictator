{
 "cells": [
  {
   "cell_type": "code",
   "execution_count": 11,
   "metadata": {
    "collapsed": false
   },
   "outputs": [],
   "source": [
    "# Import the required module\n",
    "from pymongo import MongoClient\n",
    "import datetime\n",
    "\n",
    "# User exists in the mj_analysis database, so you have to authenticate there\n",
    "c = MongoClient(\"mongodb://datascientist:[put your password here]@mongo.ictedge.org/mj_sample\")\n",
    "db = c.mj_sample\n",
    "collection = db.mj_sample\n"
   ]
  },
  {
   "cell_type": "markdown",
   "metadata": {},
   "source": [
    "## Get the latest tweet"
   ]
  },
  {
   "cell_type": "code",
   "execution_count": 9,
   "metadata": {
    "collapsed": false
   },
   "outputs": [
    {
     "name": "stdout",
     "output_type": "stream",
     "text": [
      "Fri May 29 10:55:26 +0000 2015\n",
      "<class 'str'>\n"
     ]
    }
   ],
   "source": [
    "\n",
    "for post in collection.find().sort(\"_id\", -1).limit(1):\n",
    "    #print(post)\n",
    "    print(post['created_at'])\n",
    "    print(type(post['created_at']))"
   ]
  },
  {
   "cell_type": "markdown",
   "metadata": {},
   "source": [
    "## Get a tweet from sometime back in March"
   ]
  },
  {
   "cell_type": "code",
   "execution_count": 10,
   "metadata": {
    "collapsed": false
   },
   "outputs": [
    {
     "name": "stdout",
     "output_type": "stream",
     "text": [
      "2015-03-01 00:00:00\n",
      "<class 'datetime.datetime'>\n"
     ]
    }
   ],
   "source": [
    "start_time = datetime.datetime(2015, 3, 1)\n",
    "for post in collection.find( {\"created_at\" : { \"$gte\" : start_time}} ).limit(1):\n",
    "    #print(post)\n",
    "    print(post['created_at'])\n",
    "    print(type(post['created_at']))"
   ]
  },
  {
   "cell_type": "markdown",
   "metadata": {},
   "source": [
    "As you can see here the created_at value was something that was converted to a datetime object in python back in March.  Sometime since then, something changed so that this same field is being evaluated as a string.  This is why our query for getting tweets for April and May don't work.  The tweets are there, they just aren't being returned in our query.  I looked into using the timestamp_ms field, but its not indexed so its really slow to use in queries.  \n",
    "\n",
    "So, what happened?  My guess is either:\n",
    "* Somethign changed in the script we use to store the twitter data to our database\n",
    "* Somethign changed in the Twitter API (doubtful)\n"
   ]
  },
  {
   "cell_type": "code",
   "execution_count": null,
   "metadata": {
    "collapsed": true
   },
   "outputs": [],
   "source": []
  }
 ],
 "metadata": {
  "kernelspec": {
   "display_name": "Python 3",
   "language": "python",
   "name": "python3"
  },
  "language_info": {
   "codemirror_mode": {
    "name": "ipython",
    "version": 3
   },
   "file_extension": ".py",
   "mimetype": "text/x-python",
   "name": "python",
   "nbconvert_exporter": "python",
   "pygments_lexer": "ipython3",
   "version": "3.4.4"
  }
 },
 "nbformat": 4,
 "nbformat_minor": 0
}
